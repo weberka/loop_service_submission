{
 "cells": [
  {
   "cell_type": "markdown",
   "metadata": {},
   "source": [
    "# Loop Service - Exaggerated Income Analysis \n",
    "\n",
    "### Summary\n",
    "This document outlines an apporach to targeting exaggerated incomes in applications to the Loop Service.  This approach uses data-driven techniques to identify important characteristics for understanding how income relates to other factors in the data and using this to find unusual applications.\n",
    "\n",
    "### Why does this analysis add value?\n",
    "\n",
    "* Loaning to people who exaggerate their income on an application could lead to extending loans to those less able to repay.\n",
    "\n",
    "* It costs to verify applications and finding a data-driven mechanism to prioritise suspect applications would provide a more cost-effective way to verify.\n",
    "\n",
    "* Historically, a small fraction of loans have been left with no verification status (0.5%) while 28.7% have been specifically marked 'unverified'\n",
    "* There is a slightly higher proportion of applications in the incoming stream that have been unverified or have no verification designation at all than in the baseline application data\n",
    "* The no-status applicants are riskier based on default/charge-off rate\n",
    "\n",
    "\n",
    "|Metric| **Overall**      | **Unverified** |  **No-Status** |\n",
    "|---|------------------|----------------|----------------|\n",
    "| historical, # of loans |636,687 | 182,448 | 3180|\n",
    "| historical, % of loans |100 % | 28.7% | 0.5%|\n",
    "| historical value |\\$9.62B | \\$2.17B | \\$48M |\n",
    "| stream, # of loans | 311,200 | 96,100 | 3150|\n",
    "| stream, % of loans | 100% | 30% | 1% |\n",
    "| stream value (est) |\\$4.70B | \\$1.14B | \\$47.5M |\n",
    "| default/charge-off | 8.5% | 6% | 10% |\n",
    "\n",
    "* Finding a way to indicate if these no-status applicants should go through the verification process would allow Lending Club to mitigate that risk in a cost-effective way\n",
    "\n",
    "\n",
    "### Approach\n",
    "* Establish an income distribution baseline, relating income to other variables on the application\n",
    "  \n",
    "  * Records with missing income or loan amount data were removed, assuming that these are incomplete applications\n",
    "  * Records with missing values in other columns were replaced with either 0s (numeric) or \"unknown\" (categorical), assuming missing numeric data indicated applicants didn't have the specified existing credit accounts questions were asking about\n",
    "  * Important variables are identified using a random forest variable importance ranking\n",
    "  * The income distribution model built from the baseline uses a decision tree fit on the most important variables related to income\n",
    "  * The decision tree technique was chosen:\n",
    "      * to bypass issues of multicollinearity which would have been a challenge for OLS\n",
    "      * for interpretability\n",
    "      * because it is quick to fit\n",
    "* Ensure the income distribution baseline only relies on data which applicants will supply prior to receiving a loan decision\n",
    "* Use the income distribution baseline to generate estimates for the new applicants and compare to their stated annual income figures\n",
    "* Idenfity any unusual cases, focussing on the unverified and no-status applications\n",
    "\n",
    "### Preliminary Results\n",
    "\n",
    "* The most important variables identified were related to existing credit the applicant already had and their homeowner status\n",
    "* 'No-status' applications are ~\\$1600 over the baseline estimate on average\n",
    "* There are 819 applications which are extreme outliers (using a 1.5*IQR + 75th Percentile definition) - all of these have no verification status listed - this could be worth ~\\$9M if loan amounts reflect historical averages\n",
    "* Unverified applications are approximately in line with  expectations\n",
    "\n",
    "### Limitations\n",
    "* The income distribution baseline model could be improved by sourcing in data from applicants who were denied as well - since these are missing, the model for income is biased towards just people who have sufficient income and credit to have been granted loans.\n",
    "* I've dropped variables with >52 categories, since the tree-based models in R restrict at this cutoff. This means we can't use job title, for instance.\n",
    "* More powerful computing resources could improve the model choice, enabling the use of a more sophisticated modelling technique\n",
    "* Further detailed feature analysis could reveal better ways of exploiting the existing data set\n",
    "* To hone in on the verification issue in more detail, it would be interesting to see how many verifications uncover that people need to amend their application details\n",
    "\n",
    "### Proposed roadmap for further improvement\n",
    "Short term:\n",
    "* Mapping in data from a wider population including rejected applicants could be done right away; this data is available online.  This will improve the income distribution estimates, making us more confident that outliers are really exaggerated.\n",
    "* Deploying this analysis on a VM with better compute resources can also be done right away. This will improve the suite of models that can be explored - larger Random Forests or Gradient-boosting, etc. This would improve the model choices, so potentially more accurate models can be fit.\n",
    "* Research the variables in greater detail, making a more conscious decision about how to include it in the model. This could improve the model predictions.\n",
    "    * Run a text-based analysis on the variables with more than 52 categories to reduce them into reasonable groups.  \n",
    "\n",
    "Long term: \n",
    "* A long-term improvement would be to assess if there are other questions that should be asked to understand income. This could also improve quality of model predictions.\n",
    "* Understanding the process of verification could feed into whether it is possible to measure incidence rates of exaggeration - but this is a bigger process change and is sensitive"
   ]
  },
  {
   "cell_type": "markdown",
   "metadata": {},
   "source": [
    "### Analysis code\n",
    "* Analysis is implemented in R, using the dplyr package (and wider tidyverse package family) for data cleansing and tree-based methods (packages: rpart, randomForest) for variable importance ratings and model-fitting\n",
    "\n",
    "#### Step 0:  Enabling an R-Kernel in Jupyter\n",
    "* Instructions for enabling R in a Jupyter notebook can be found here if needed:  https://github.com/IRkernel/IRkernel\n",
    "* I also needed to ensure that the file location for the Python kernel used for Jupyter was added to the PATH environment variable so R could see it\n",
    "\n",
    "#### Step 1:  Load data and packages"
   ]
  },
  {
   "cell_type": "code",
   "execution_count": 113,
   "metadata": {
    "collapsed": true
   },
   "outputs": [],
   "source": [
    "## Extract Zip-files to CSV format. Save in Data folder.\n",
    "baseline_zip_file <- \"../Data/baseline.csv.zip\"\n",
    "unzip(baseline_zip_file,exdir = \"../Data\")\n",
    "\n",
    "stream_zip_file <- \"../Data/stream.csv.zip\"\n",
    "unzip(stream_zip_file,exdir = \"../Data\")\n"
   ]
  },
  {
   "cell_type": "code",
   "execution_count": 1,
   "metadata": {},
   "outputs": [
    {
     "name": "stdout",
     "output_type": "stream",
     "text": [
      "package 'readr' successfully unpacked and MD5 sums checked\n",
      "\n",
      "The downloaded binary packages are in\n",
      "\tC:\\Users\\katelyn.weber\\AppData\\Local\\Temp\\Rtmpyu94N7\\downloaded_packages\n",
      "package 'dplyr' successfully unpacked and MD5 sums checked\n",
      "\n",
      "The downloaded binary packages are in\n",
      "\tC:\\Users\\katelyn.weber\\AppData\\Local\\Temp\\Rtmpyu94N7\\downloaded_packages\n",
      "package 'stringr' successfully unpacked and MD5 sums checked\n",
      "\n",
      "The downloaded binary packages are in\n",
      "\tC:\\Users\\katelyn.weber\\AppData\\Local\\Temp\\Rtmpyu94N7\\downloaded_packages\n",
      "package 'tidyr' successfully unpacked and MD5 sums checked\n",
      "\n",
      "The downloaded binary packages are in\n",
      "\tC:\\Users\\katelyn.weber\\AppData\\Local\\Temp\\Rtmpyu94N7\\downloaded_packages\n",
      "package 'randomForest' successfully unpacked and MD5 sums checked\n",
      "\n",
      "The downloaded binary packages are in\n",
      "\tC:\\Users\\katelyn.weber\\AppData\\Local\\Temp\\Rtmpyu94N7\\downloaded_packages\n",
      "package 'rpart' successfully unpacked and MD5 sums checked\n",
      "\n",
      "The downloaded binary packages are in\n",
      "\tC:\\Users\\katelyn.weber\\AppData\\Local\\Temp\\Rtmpyu94N7\\downloaded_packages\n",
      "package 'ggplot2' successfully unpacked and MD5 sums checked\n",
      "\n",
      "The downloaded binary packages are in\n",
      "\tC:\\Users\\katelyn.weber\\AppData\\Local\\Temp\\Rtmpyu94N7\\downloaded_packages\n",
      "package 'corrplot' successfully unpacked and MD5 sums checked\n",
      "\n",
      "The downloaded binary packages are in\n",
      "\tC:\\Users\\katelyn.weber\\AppData\\Local\\Temp\\Rtmpyu94N7\\downloaded_packages\n"
     ]
    }
   ],
   "source": [
    "## Install any required R Packages\n",
    "packages <- c(\"readr\",\"dplyr\",\"stringr\",\"tidyr\",\"randomForest\",\"rpart\",\"ggplot2\",\"corrplot\")\n",
    "install.packages.set.repos <- function(package_name){\n",
    "    install.packages(package_name, repos=\"https://cloud.r-project.org\")\n",
    "}\n",
    "s <- suppressWarnings(\n",
    "lapply(packages,install.packages.set.repos)\n",
    "    )"
   ]
  },
  {
   "cell_type": "code",
   "execution_count": 2,
   "metadata": {},
   "outputs": [
    {
     "name": "stderr",
     "output_type": "stream",
     "text": [
      "\n",
      "Attaching package: 'dplyr'\n",
      "\n",
      "The following objects are masked from 'package:stats':\n",
      "\n",
      "    filter, lag\n",
      "\n",
      "The following objects are masked from 'package:base':\n",
      "\n",
      "    intersect, setdiff, setequal, union\n",
      "\n",
      "randomForest 4.6-12\n",
      "Type rfNews() to see new features/changes/bug fixes.\n",
      "\n",
      "Attaching package: 'randomForest'\n",
      "\n",
      "The following object is masked from 'package:dplyr':\n",
      "\n",
      "    combine\n",
      "\n",
      "\n",
      "Attaching package: 'ggplot2'\n",
      "\n",
      "The following object is masked from 'package:randomForest':\n",
      "\n",
      "    margin\n",
      "\n",
      "corrplot 0.84 loaded\n"
     ]
    }
   ],
   "source": [
    "## Load packages\n",
    "packages <- c(\"readr\",\"dplyr\",\"stringr\",\"tidyr\",\"randomForest\",\"rpart\",\"ggplot2\",\"corrplot\")\n",
    "s <- suppressWarnings(\n",
    "lapply(packages,library,character.only = TRUE)\n",
    "    )"
   ]
  },
  {
   "cell_type": "code",
   "execution_count": 116,
   "metadata": {},
   "outputs": [
    {
     "name": "stderr",
     "output_type": "stream",
     "text": [
      "Parsed with column specification:\n",
      "cols(\n",
      "  .default = col_double(),\n",
      "  X1 = col_integer(),\n",
      "  desc = col_character(),\n",
      "  open_il_6m = col_character(),\n",
      "  earliest_cr_line = col_character(),\n",
      "  revol_util = col_character(),\n",
      "  open_il_24m = col_character(),\n",
      "  term = col_character(),\n",
      "  max_bal_bc = col_character(),\n",
      "  open_rv_24m = col_character(),\n",
      "  addr_state = col_character(),\n",
      "  emp_title = col_character(),\n",
      "  total_bal_il = col_character(),\n",
      "  loan_status = col_character(),\n",
      "  il_util = col_character(),\n",
      "  home_ownership = col_character(),\n",
      "  title = col_character(),\n",
      "  mths_since_rcnt_il = col_character(),\n",
      "  grade = col_character(),\n",
      "  pymnt_plan = col_character(),\n",
      "  issue_d = col_character()\n",
      "  # ... with 12 more columns\n",
      ")\n",
      "See spec(...) for full column specifications.\n",
      "Parsed with column specification:\n",
      "cols(\n",
      "  .default = col_double(),\n",
      "  X1 = col_integer(),\n",
      "  desc = col_character(),\n",
      "  verification_status = col_character(),\n",
      "  issue_d = col_character(),\n",
      "  addr_state = col_character(),\n",
      "  emp_title = col_character(),\n",
      "  purpose = col_character(),\n",
      "  home_ownership = col_character(),\n",
      "  earliest_cr_line = col_character(),\n",
      "  zip_code = col_character(),\n",
      "  revol_util = col_character(),\n",
      "  emp_length = col_character(),\n",
      "  title = col_character()\n",
      ")\n",
      "See spec(...) for full column specifications.\n"
     ]
    }
   ],
   "source": [
    "## Read in the data\n",
    "baseline <- read_csv(file = \"../Data/baseline.csv\") %>%\n",
    "    rename(id = X1)\n",
    "stream <- read_csv(file = \"../Data/stream.csv\") %>%\n",
    "    rename(id = X1)"
   ]
  },
  {
   "cell_type": "markdown",
   "metadata": {},
   "source": [
    "#### Step 2:  Clean data"
   ]
  },
  {
   "cell_type": "code",
   "execution_count": 117,
   "metadata": {},
   "outputs": [
    {
     "data": {
      "text/html": [
       "<table>\n",
       "<thead><tr><th scope=col>n</th></tr></thead>\n",
       "<tbody>\n",
       "\t<tr><td>636687</td></tr>\n",
       "</tbody>\n",
       "</table>\n"
      ],
      "text/latex": [
       "\\begin{tabular}{r|l}\n",
       " n\\\\\n",
       "\\hline\n",
       "\t 636687\\\\\n",
       "\\end{tabular}\n"
      ],
      "text/markdown": [
       "\n",
       "n | \n",
       "|---|\n",
       "| 636687 | \n",
       "\n",
       "\n"
      ],
      "text/plain": [
       "  n     \n",
       "1 636687"
      ]
     },
     "metadata": {},
     "output_type": "display_data"
    }
   ],
   "source": [
    "## Update the baseline data to remove missing annual income and loan amount records\n",
    "## Assumption:  these are not completed applications\n",
    "baseline <- baseline %>% \n",
    "  filter(!is.na(annual_inc)) %>%\n",
    "  filter(!is.na(loan_amnt))\n",
    "\n",
    "## Count the records remaining\n",
    "N <- baseline %>% tally()\n",
    "N\n"
   ]
  },
  {
   "cell_type": "markdown",
   "metadata": {
    "collapsed": true
   },
   "source": [
    "#### Step 3:  Investigate data - provide stats for high-level summary"
   ]
  },
  {
   "cell_type": "code",
   "execution_count": 118,
   "metadata": {},
   "outputs": [
    {
     "data": {
      "text/html": [
       "<table>\n",
       "<thead><tr><th scope=col>verification_status</th><th scope=col>total_amnt</th><th scope=col>number_applications</th><th scope=col>avg_dti</th><th scope=col>avg_income</th><th scope=col>med_income</th><th scope=col>avg_loan_amnt</th><th scope=col>app_freq</th><th scope=col>amnt_freq</th></tr></thead>\n",
       "<tbody>\n",
       "\t<tr><td>Not Verified   </td><td>2166361000     </td><td>182448         </td><td>18.15883       </td><td>69068.79       </td><td>60000          </td><td>11873.85       </td><td>0.286558387    </td><td>0.225250015    </td></tr>\n",
       "\t<tr><td>Source Verified</td><td>4232460225     </td><td>267659         </td><td>18.42333       </td><td>79084.60       </td><td>65000          </td><td>15812.88       </td><td>0.420393380    </td><td>0.440075191    </td></tr>\n",
       "\t<tr><td>Verified       </td><td>3170758500     </td><td>183400         </td><td>19.77023       </td><td>79199.47       </td><td>68000          </td><td>17288.76       </td><td>0.288053628    </td><td>0.329683465    </td></tr>\n",
       "\t<tr><td>NA             </td><td>  48004525     </td><td>  3180         </td><td>18.69426       </td><td>76343.33       </td><td>65000          </td><td>15095.76       </td><td>0.004994605    </td><td>0.004991329    </td></tr>\n",
       "</tbody>\n",
       "</table>\n"
      ],
      "text/latex": [
       "\\begin{tabular}{r|lllllllll}\n",
       " verification\\_status & total\\_amnt & number\\_applications & avg\\_dti & avg\\_income & med\\_income & avg\\_loan\\_amnt & app\\_freq & amnt\\_freq\\\\\n",
       "\\hline\n",
       "\t Not Verified    & 2166361000      & 182448          & 18.15883        & 69068.79        & 60000           & 11873.85        & 0.286558387     & 0.225250015    \\\\\n",
       "\t Source Verified & 4232460225      & 267659          & 18.42333        & 79084.60        & 65000           & 15812.88        & 0.420393380     & 0.440075191    \\\\\n",
       "\t Verified        & 3170758500      & 183400          & 19.77023        & 79199.47        & 68000           & 17288.76        & 0.288053628     & 0.329683465    \\\\\n",
       "\t NA              &   48004525      &   3180          & 18.69426        & 76343.33        & 65000           & 15095.76        & 0.004994605     & 0.004991329    \\\\\n",
       "\\end{tabular}\n"
      ],
      "text/markdown": [
       "\n",
       "verification_status | total_amnt | number_applications | avg_dti | avg_income | med_income | avg_loan_amnt | app_freq | amnt_freq | \n",
       "|---|---|---|---|\n",
       "| Not Verified    | 2166361000      | 182448          | 18.15883        | 69068.79        | 60000           | 11873.85        | 0.286558387     | 0.225250015     | \n",
       "| Source Verified | 4232460225      | 267659          | 18.42333        | 79084.60        | 65000           | 15812.88        | 0.420393380     | 0.440075191     | \n",
       "| Verified        | 3170758500      | 183400          | 19.77023        | 79199.47        | 68000           | 17288.76        | 0.288053628     | 0.329683465     | \n",
       "| NA              |   48004525      |   3180          | 18.69426        | 76343.33        | 65000           | 15095.76        | 0.004994605     | 0.004991329     | \n",
       "\n",
       "\n"
      ],
      "text/plain": [
       "  verification_status total_amnt number_applications avg_dti  avg_income\n",
       "1 Not Verified        2166361000 182448              18.15883 69068.79  \n",
       "2 Source Verified     4232460225 267659              18.42333 79084.60  \n",
       "3 Verified            3170758500 183400              19.77023 79199.47  \n",
       "4 NA                    48004525   3180              18.69426 76343.33  \n",
       "  med_income avg_loan_amnt app_freq    amnt_freq  \n",
       "1 60000      11873.85      0.286558387 0.225250015\n",
       "2 65000      15812.88      0.420393380 0.440075191\n",
       "3 68000      17288.76      0.288053628 0.329683465\n",
       "4 65000      15095.76      0.004994605 0.004991329"
      ]
     },
     "metadata": {},
     "output_type": "display_data"
    }
   ],
   "source": [
    "## Data by verification status\n",
    "\n",
    "verification_table <- baseline %>%\n",
    "  group_by(verification_status) %>%\n",
    "  summarise(total_amnt = sum(loan_amnt),\n",
    "            number_applications = n(),\n",
    "            avg_dti = mean(dti,na.rm=T),\n",
    "            avg_income = mean(annual_inc),\n",
    "            med_income = median(annual_inc),\n",
    "            avg_loan_amnt = mean(loan_amnt)) %>%\n",
    " mutate(app_freq = number_applications/sum(number_applications)) %>%\n",
    " mutate(amnt_freq = total_amnt/sum(total_amnt))\n",
    "\n",
    "verification_table"
   ]
  },
  {
   "cell_type": "code",
   "execution_count": 119,
   "metadata": {},
   "outputs": [
    {
     "data": {
      "text/html": [
       "<table>\n",
       "<thead><tr><th scope=col>verification_status</th><th scope=col>total_amnt</th><th scope=col>number_applications</th><th scope=col>avg_dti</th><th scope=col>avg_income</th><th scope=col>avg_loan_amnt</th></tr></thead>\n",
       "<tbody>\n",
       "\t<tr><td>Not Verified   </td><td>131727075      </td><td>11540          </td><td>19.45781       </td><td>61487.16       </td><td>11414.82       </td></tr>\n",
       "\t<tr><td>Source Verified</td><td>368693725      </td><td>23452          </td><td>20.11493       </td><td>69663.60       </td><td>15721.21       </td></tr>\n",
       "\t<tr><td>Verified       </td><td>329398575      </td><td>18987          </td><td>21.27249       </td><td>71618.33       </td><td>17348.64       </td></tr>\n",
       "\t<tr><td>NA             </td><td>  4827325      </td><td>  318          </td><td>19.94098       </td><td>68417.20       </td><td>15180.27       </td></tr>\n",
       "</tbody>\n",
       "</table>\n"
      ],
      "text/latex": [
       "\\begin{tabular}{r|llllll}\n",
       " verification\\_status & total\\_amnt & number\\_applications & avg\\_dti & avg\\_income & avg\\_loan\\_amnt\\\\\n",
       "\\hline\n",
       "\t Not Verified    & 131727075       & 11540           & 19.45781        & 61487.16        & 11414.82       \\\\\n",
       "\t Source Verified & 368693725       & 23452           & 20.11493        & 69663.60        & 15721.21       \\\\\n",
       "\t Verified        & 329398575       & 18987           & 21.27249        & 71618.33        & 17348.64       \\\\\n",
       "\t NA              &   4827325       &   318           & 19.94098        & 68417.20        & 15180.27       \\\\\n",
       "\\end{tabular}\n"
      ],
      "text/markdown": [
       "\n",
       "verification_status | total_amnt | number_applications | avg_dti | avg_income | avg_loan_amnt | \n",
       "|---|---|---|---|\n",
       "| Not Verified    | 131727075       | 11540           | 19.45781        | 61487.16        | 11414.82        | \n",
       "| Source Verified | 368693725       | 23452           | 20.11493        | 69663.60        | 15721.21        | \n",
       "| Verified        | 329398575       | 18987           | 21.27249        | 71618.33        | 17348.64        | \n",
       "| NA              |   4827325       |   318           | 19.94098        | 68417.20        | 15180.27        | \n",
       "\n",
       "\n"
      ],
      "text/plain": [
       "  verification_status total_amnt number_applications avg_dti  avg_income\n",
       "1 Not Verified        131727075  11540               19.45781 61487.16  \n",
       "2 Source Verified     368693725  23452               20.11493 69663.60  \n",
       "3 Verified            329398575  18987               21.27249 71618.33  \n",
       "4 NA                    4827325    318               19.94098 68417.20  \n",
       "  avg_loan_amnt\n",
       "1 11414.82     \n",
       "2 15721.21     \n",
       "3 17348.64     \n",
       "4 15180.27     "
      ]
     },
     "metadata": {},
     "output_type": "display_data"
    }
   ],
   "source": [
    "## Default or Charged Off loans by verification status\n",
    "verification_default_table <- baseline %>%\n",
    " filter(loan_status==\"Default\"|loan_status==\"Charged Off\")%>%\n",
    "  group_by(verification_status) %>%\n",
    "  summarise(total_amnt = sum(loan_amnt),\n",
    "            number_applications = n(),\n",
    "            avg_dti = mean(dti,na.rm=T),\n",
    "            avg_income = mean(annual_inc),\n",
    "            avg_loan_amnt = mean(loan_amnt))\n",
    "\n",
    "verification_default_table"
   ]
  },
  {
   "cell_type": "code",
   "execution_count": 120,
   "metadata": {},
   "outputs": [
    {
     "data": {
      "text/html": [
       "<table>\n",
       "<thead><tr><th scope=col>all</th><th scope=col>default_prop</th><th scope=col>default_amnt_prop</th><th scope=col>default_amnt</th><th scope=col>total_loan_amnt</th></tr></thead>\n",
       "<tbody>\n",
       "\t<tr><td>all       </td><td>0.08528052</td><td>0.0867834 </td><td>834646700 </td><td>9617584250</td></tr>\n",
       "</tbody>\n",
       "</table>\n"
      ],
      "text/latex": [
       "\\begin{tabular}{r|lllll}\n",
       " all & default\\_prop & default\\_amnt\\_prop & default\\_amnt & total\\_loan\\_amnt\\\\\n",
       "\\hline\n",
       "\t all        & 0.08528052 & 0.0867834  & 834646700  & 9617584250\\\\\n",
       "\\end{tabular}\n"
      ],
      "text/markdown": [
       "\n",
       "all | default_prop | default_amnt_prop | default_amnt | total_loan_amnt | \n",
       "|---|\n",
       "| all        | 0.08528052 | 0.0867834  | 834646700  | 9617584250 | \n",
       "\n",
       "\n"
      ],
      "text/plain": [
       "  all default_prop default_amnt_prop default_amnt total_loan_amnt\n",
       "1 all 0.08528052   0.0867834         834646700    9617584250     "
      ]
     },
     "metadata": {},
     "output_type": "display_data"
    }
   ],
   "source": [
    "## Total values for entire portfolio\n",
    "verification_table %>%\n",
    "    inner_join(verification_default_table,by=c(\"verification_status\")) %>%\n",
    "        mutate(all = \"all\") %>%\n",
    "    group_by(all) %>%\n",
    "    summarise(default_prop = sum(number_applications.y)/sum(number_applications.x),\n",
    "              default_amnt_prop = sum(total_amnt.y)/sum(total_amnt.x),\n",
    "              default_amnt = sum(total_amnt.y),\n",
    "              total_loan_amnt = sum(total_amnt.x))\n"
   ]
  },
  {
   "cell_type": "code",
   "execution_count": 121,
   "metadata": {},
   "outputs": [
    {
     "data": {
      "text/html": [
       "<table>\n",
       "<thead><tr><th scope=col>verification_status</th><th scope=col>number_applications</th><th scope=col>avg_dti</th><th scope=col>avg_income</th><th scope=col>med_income</th><th scope=col>prop_n</th></tr></thead>\n",
       "<tbody>\n",
       "\t<tr><td>Not Verified   </td><td> 96100         </td><td>18.60080       </td><td>78292.39       </td><td>70000          </td><td>0.30880463     </td></tr>\n",
       "\t<tr><td>Source Verified</td><td>125184         </td><td>17.24022       </td><td>82631.79       </td><td>67000          </td><td>0.40226221     </td></tr>\n",
       "\t<tr><td>Verified       </td><td> 86766         </td><td>20.26836       </td><td>76837.25       </td><td>64496          </td><td>0.27881105     </td></tr>\n",
       "\t<tr><td>NA             </td><td>  3150         </td><td>18.52987       </td><td>78857.83       </td><td>67000          </td><td>0.01012211     </td></tr>\n",
       "</tbody>\n",
       "</table>\n"
      ],
      "text/latex": [
       "\\begin{tabular}{r|llllll}\n",
       " verification\\_status & number\\_applications & avg\\_dti & avg\\_income & med\\_income & prop\\_n\\\\\n",
       "\\hline\n",
       "\t Not Verified    &  96100          & 18.60080        & 78292.39        & 70000           & 0.30880463     \\\\\n",
       "\t Source Verified & 125184          & 17.24022        & 82631.79        & 67000           & 0.40226221     \\\\\n",
       "\t Verified        &  86766          & 20.26836        & 76837.25        & 64496           & 0.27881105     \\\\\n",
       "\t NA              &   3150          & 18.52987        & 78857.83        & 67000           & 0.01012211     \\\\\n",
       "\\end{tabular}\n"
      ],
      "text/markdown": [
       "\n",
       "verification_status | number_applications | avg_dti | avg_income | med_income | prop_n | \n",
       "|---|---|---|---|\n",
       "| Not Verified    |  96100          | 18.60080        | 78292.39        | 70000           | 0.30880463      | \n",
       "| Source Verified | 125184          | 17.24022        | 82631.79        | 67000           | 0.40226221      | \n",
       "| Verified        |  86766          | 20.26836        | 76837.25        | 64496           | 0.27881105      | \n",
       "| NA              |   3150          | 18.52987        | 78857.83        | 67000           | 0.01012211      | \n",
       "\n",
       "\n"
      ],
      "text/plain": [
       "  verification_status number_applications avg_dti  avg_income med_income\n",
       "1 Not Verified         96100              18.60080 78292.39   70000     \n",
       "2 Source Verified     125184              17.24022 82631.79   67000     \n",
       "3 Verified             86766              20.26836 76837.25   64496     \n",
       "4 NA                    3150              18.52987 78857.83   67000     \n",
       "  prop_n    \n",
       "1 0.30880463\n",
       "2 0.40226221\n",
       "3 0.27881105\n",
       "4 0.01012211"
      ]
     },
     "metadata": {},
     "output_type": "display_data"
    },
    {
     "data": {
      "text/html": [
       "<table>\n",
       "<thead><tr><th scope=col>n</th></tr></thead>\n",
       "<tbody>\n",
       "\t<tr><td>311200</td></tr>\n",
       "</tbody>\n",
       "</table>\n"
      ],
      "text/latex": [
       "\\begin{tabular}{r|l}\n",
       " n\\\\\n",
       "\\hline\n",
       "\t 311200\\\\\n",
       "\\end{tabular}\n"
      ],
      "text/markdown": [
       "\n",
       "n | \n",
       "|---|\n",
       "| 311200 | \n",
       "\n",
       "\n"
      ],
      "text/plain": [
       "  n     \n",
       "1 311200"
      ]
     },
     "metadata": {},
     "output_type": "display_data"
    }
   ],
   "source": [
    "## Incoming stream of applications for comparison\n",
    "## Remove missing income data from stream dataset\n",
    "\n",
    "stream <- stream %>% \n",
    "  filter(!is.na(annual_inc))\n",
    "\n",
    "stream %>%\n",
    "  group_by(verification_status) %>%\n",
    "  summarise(\n",
    "            number_applications = n(),\n",
    "            avg_dti = mean(dti,na.rm=T),\n",
    "            avg_income = mean(annual_inc,na.rm=T),\n",
    "            med_income = median(annual_inc,na.rm=T)) %>%\n",
    "  mutate(prop_n = number_applications/sum(number_applications))\n",
    "\n",
    "stream %>% tally()"
   ]
  },
  {
   "cell_type": "code",
   "execution_count": 122,
   "metadata": {
    "collapsed": true
   },
   "outputs": [],
   "source": [
    "## Variable selection\n",
    "## Top-down rules:\n",
    "## - remove any information that we would not know prior to granting loan\n",
    "## - remove any information directly tied to income, e.g. DTI\n",
    "## - remove any ratios, which are inherently related to other vars in set\n",
    "\n",
    "## Select just numeric data\n",
    "baseline_numeric <- baseline %>% \n",
    "  select(which(sapply(., is.numeric))) %>%\n",
    "  select(-dti,-loan_amnt,-funded_amnt,-funded_amnt_inv,-bc_util,-recoveries) %>% ## remove fields not available in new apps\n",
    "  replace(is.na(.), 0) %>% ## fill in missing data\n",
    "  arrange(id) %>%\n",
    "  select(-id)\n"
   ]
  },
  {
   "cell_type": "code",
   "execution_count": 123,
   "metadata": {},
   "outputs": [
    {
     "data": {
      "image/png": "[encoded data removed]",
      "text/plain": [
       "Plot with title \"\""
      ]
     },
     "metadata": {},
     "output_type": "display_data"
    }
   ],
   "source": [
    "cor_matrix <- cor(baseline_numeric,use=\"pairwise\")\n",
    "corrplot(cor_matrix,tl.cex=.5,tl.col=1,type=\"upper\",method=\"square\",order=\"FPC\")\n",
    "## indicates that as expected multicollinearity is present"
   ]
  },
  {
   "cell_type": "code",
   "execution_count": 124,
   "metadata": {
    "collapsed": true
   },
   "outputs": [],
   "source": [
    "## On read, R misclassified several numeric columns, which are converted here\n",
    "baseline_mistyped <- baseline %>%\n",
    "  select(total_bal_il, max_bal_bc, revol_util, mths_since_rcnt_il, il_util, \n",
    "         all_util, open_acc_6m, open_rv_12m, open_rv_24m, inq_last_12m,\n",
    "         total_cu_tl,open_il_6m, open_il_12m, open_il_24m, inq_fi) %>%\n",
    "  mutate(revol_util = gsub(\"%\",\"\",revol_util,fixed=T)) %>%\n",
    "  mutate_all(as.numeric) %>% ## convert to numeric\n",
    "  replace(is.na(.), 0) ## clean up missing values, replacing with 0\n",
    "\n",
    "baseline_factor <- baseline %>%\n",
    "  select(which(sapply(., is.character))) %>%\n",
    "  select(-int_rate,-total_bal_il, -max_bal_bc, -revol_util, -mths_since_rcnt_il, \n",
    "         -il_util, -all_util, -open_acc_6m, -open_rv_12m, -open_rv_24m, \n",
    "         -inq_last_12m,-total_cu_tl,-open_il_6m, -open_il_12m, -open_il_24m, -inq_fi) %>%\n",
    "  select(-loan_status,-grade) %>% ## removed because it is not in the streaming set\n",
    "  select(-zip_code,-earliest_cr_line) %>% ## removed because randomForest has structural limitation with diverse categorical variables\n",
    "  replace(is.na(.),\"unknown\") %>% ## clean up missing data\n",
    "  mutate(emp_title = toupper(emp_title)) %>% ## clean up free-entry job-title field (a little)\n",
    "  mutate_all(as.factor) ## convert to factor - categorical variable data type\n",
    "\n",
    "## Recombine the typed datasets\n",
    "baseline_for_model <- bind_cols(baseline_numeric,baseline_factor,baseline_mistyped) %>%\n",
    "  select(-desc,-term,-emp_title,-title,-pymnt_plan,-installment)\n",
    "\n",
    "## Do the same for the stream data\n",
    "stream_numeric <- stream %>% \n",
    "  select(which(sapply(., is.numeric))) %>%\n",
    "  select(-dti,-bc_util) %>%\n",
    "  replace(is.na(.), 0)\n",
    "\n",
    "stream_mistyped <- stream %>%\n",
    "  select(revol_util) %>%\n",
    "  mutate(revol_util = gsub(\"%\",\"\",revol_util,fixed=T)) %>%\n",
    "  mutate_all(as.numeric) %>%\n",
    "  replace(is.na(.), 0)\n",
    "\n",
    "stream_factor <- stream %>%\n",
    "  select(which(sapply(., is.character))) %>%\n",
    "  select(-revol_util) %>%\n",
    "  replace(is.na(.),\"unknown\") %>%\n",
    "  mutate(emp_title = toupper(emp_title)) %>%\n",
    "  mutate_all(as.factor)\n",
    "\n",
    "stream_for_model <- bind_cols(stream_numeric,stream_factor,stream_mistyped)"
   ]
  },
  {
   "cell_type": "code",
   "execution_count": 125,
   "metadata": {},
   "outputs": [
    {
     "data": {
      "text/html": [
       "<dl class=dl-horizontal>\n",
       "\t<dt>tot_hi_cred_lim</dt>\n",
       "\t\t<dd>143326626504437</dd>\n",
       "\t<dt>tot_cur_bal</dt>\n",
       "\t\t<dd>113433480736724</dd>\n",
       "\t<dt>total_bal_ex_mort</dt>\n",
       "\t\t<dd>47504228467692.5</dd>\n",
       "\t<dt>revol_bal</dt>\n",
       "\t\t<dd>24568923678782.1</dd>\n",
       "\t<dt>total_rev_hi_lim</dt>\n",
       "\t\t<dd>18465536746474.3</dd>\n",
       "\t<dt>avg_cur_bal</dt>\n",
       "\t\t<dd>15743851129226.3</dd>\n",
       "\t<dt>total_bc_limit</dt>\n",
       "\t\t<dd>8232891949595.21</dd>\n",
       "\t<dt>total_il_high_credit_limit</dt>\n",
       "\t\t<dd>6850110456504.64</dd>\n",
       "\t<dt>mort_acc</dt>\n",
       "\t\t<dd>3899175375367.13</dd>\n",
       "\t<dt>home_ownership</dt>\n",
       "\t\t<dd>436524518963.823</dd>\n",
       "\t<dt>verification_status</dt>\n",
       "\t\t<dd>193375368619.93</dd>\n",
       "\t<dt>num_sats</dt>\n",
       "\t\t<dd>189757875798.002</dd>\n",
       "\t<dt>open_acc</dt>\n",
       "\t\t<dd>185449696565.535</dd>\n",
       "\t<dt>mo_sin_old_rev_tl_op</dt>\n",
       "\t\t<dd>131281800002.32</dd>\n",
       "\t<dt>bc_open_to_buy</dt>\n",
       "\t\t<dd>33412893896.7808</dd>\n",
       "\t<dt>addr_state</dt>\n",
       "\t\t<dd>25146920634.2477</dd>\n",
       "</dl>\n"
      ],
      "text/latex": [
       "\\begin{description*}\n",
       "\\item[tot\\textbackslash{}\\_hi\\textbackslash{}\\_cred\\textbackslash{}\\_lim] 143326626504437\n",
       "\\item[tot\\textbackslash{}\\_cur\\textbackslash{}\\_bal] 113433480736724\n",
       "\\item[total\\textbackslash{}\\_bal\\textbackslash{}\\_ex\\textbackslash{}\\_mort] 47504228467692.5\n",
       "\\item[revol\\textbackslash{}\\_bal] 24568923678782.1\n",
       "\\item[total\\textbackslash{}\\_rev\\textbackslash{}\\_hi\\textbackslash{}\\_lim] 18465536746474.3\n",
       "\\item[avg\\textbackslash{}\\_cur\\textbackslash{}\\_bal] 15743851129226.3\n",
       "\\item[total\\textbackslash{}\\_bc\\textbackslash{}\\_limit] 8232891949595.21\n",
       "\\item[total\\textbackslash{}\\_il\\textbackslash{}\\_high\\textbackslash{}\\_credit\\textbackslash{}\\_limit] 6850110456504.64\n",
       "\\item[mort\\textbackslash{}\\_acc] 3899175375367.13\n",
       "\\item[home\\textbackslash{}\\_ownership] 436524518963.823\n",
       "\\item[verification\\textbackslash{}\\_status] 193375368619.93\n",
       "\\item[num\\textbackslash{}\\_sats] 189757875798.002\n",
       "\\item[open\\textbackslash{}\\_acc] 185449696565.535\n",
       "\\item[mo\\textbackslash{}\\_sin\\textbackslash{}\\_old\\textbackslash{}\\_rev\\textbackslash{}\\_tl\\textbackslash{}\\_op] 131281800002.32\n",
       "\\item[bc\\textbackslash{}\\_open\\textbackslash{}\\_to\\textbackslash{}\\_buy] 33412893896.7808\n",
       "\\item[addr\\textbackslash{}\\_state] 25146920634.2477\n",
       "\\end{description*}\n"
      ],
      "text/markdown": [
       "tot_hi_cred_lim\n",
       ":   143326626504437tot_cur_bal\n",
       ":   113433480736724total_bal_ex_mort\n",
       ":   47504228467692.5revol_bal\n",
       ":   24568923678782.1total_rev_hi_lim\n",
       ":   18465536746474.3avg_cur_bal\n",
       ":   15743851129226.3total_bc_limit\n",
       ":   8232891949595.21total_il_high_credit_limit\n",
       ":   6850110456504.64mort_acc\n",
       ":   3899175375367.13home_ownership\n",
       ":   436524518963.823verification_status\n",
       ":   193375368619.93num_sats\n",
       ":   189757875798.002open_acc\n",
       ":   185449696565.535mo_sin_old_rev_tl_op\n",
       ":   131281800002.32bc_open_to_buy\n",
       ":   33412893896.7808addr_state\n",
       ":   25146920634.2477\n",
       "\n"
      ],
      "text/plain": [
       "           tot_hi_cred_lim                tot_cur_bal \n",
       "              1.433266e+14               1.134335e+14 \n",
       "         total_bal_ex_mort                  revol_bal \n",
       "              4.750423e+13               2.456892e+13 \n",
       "          total_rev_hi_lim                avg_cur_bal \n",
       "              1.846554e+13               1.574385e+13 \n",
       "            total_bc_limit total_il_high_credit_limit \n",
       "              8.232892e+12               6.850110e+12 \n",
       "                  mort_acc             home_ownership \n",
       "              3.899175e+12               4.365245e+11 \n",
       "       verification_status                   num_sats \n",
       "              1.933754e+11               1.897579e+11 \n",
       "                  open_acc       mo_sin_old_rev_tl_op \n",
       "              1.854497e+11               1.312818e+11 \n",
       "            bc_open_to_buy                 addr_state \n",
       "              3.341289e+10               2.514692e+10 "
      ]
     },
     "metadata": {},
     "output_type": "display_data"
    }
   ],
   "source": [
    "## Variable importance using random forest\n",
    "## Due to memory constraints on my laptop, I've had to reduce the size of each tree and number of trees\n",
    "## this could be 'beefed up' in a v2\n",
    "set.seed(1)\n",
    "rf <- randomForest(annual_inc ~ ., data = baseline_for_model, ntree=250, maxnodes=4)\n",
    "var_imp <- rf$importance[sort.list(rf$importance,decreasing=TRUE),]\n",
    "var_imp[var_imp > 0]\n",
    "\n",
    "## Forms the model of the most important columns found via the random forest method and the \n",
    "## specific variables 'purpose', 'verification_status', and 'emp_length' based on conversation with Andrew\n",
    "model_call = as.formula(paste(\"annual_inc ~ \",\n",
    "             paste(unique(c(names(rf$importance[rf$importance>0,]),\"purpose\",\"verification_status\",\"emp_length\")),\n",
    "                                                    collapse=\"+\")))"
   ]
  },
  {
   "cell_type": "markdown",
   "metadata": {},
   "source": [
    "#### Step 4:  Create income distribution model"
   ]
  },
  {
   "cell_type": "code",
   "execution_count": 126,
   "metadata": {
    "collapsed": true
   },
   "outputs": [],
   "source": [
    "## Fit a regression tree model\n",
    "# Preferential because of interpretability and compute resources\n",
    "rpart_fit <- rpart(model_call, data = baseline_for_model, control = rpart.control(cp = 0.001)) \n",
    "\n",
    "## drop the cp to get a more complex tree"
   ]
  },
  {
   "cell_type": "markdown",
   "metadata": {},
   "source": [
    "#### Step 5:  Generate income estimates on new applicants"
   ]
  },
  {
   "cell_type": "code",
   "execution_count": 127,
   "metadata": {},
   "outputs": [
    {
     "data": {
      "text/html": [
       "<table>\n",
       "<thead><tr><th scope=col>verification_status</th><th scope=col>avg_resid</th></tr></thead>\n",
       "<tbody>\n",
       "\t<tr><td>Not Verified   </td><td>-313.2966      </td></tr>\n",
       "\t<tr><td>Source Verified</td><td>6802.2108      </td></tr>\n",
       "\t<tr><td>unknown        </td><td>1662.0377      </td></tr>\n",
       "\t<tr><td>Verified       </td><td>-201.5933      </td></tr>\n",
       "</tbody>\n",
       "</table>\n"
      ],
      "text/latex": [
       "\\begin{tabular}{r|ll}\n",
       " verification\\_status & avg\\_resid\\\\\n",
       "\\hline\n",
       "\t Not Verified    & -313.2966      \\\\\n",
       "\t Source Verified & 6802.2108      \\\\\n",
       "\t unknown         & 1662.0377      \\\\\n",
       "\t Verified        & -201.5933      \\\\\n",
       "\\end{tabular}\n"
      ],
      "text/markdown": [
       "\n",
       "verification_status | avg_resid | \n",
       "|---|---|---|---|\n",
       "| Not Verified    | -313.2966       | \n",
       "| Source Verified | 6802.2108       | \n",
       "| unknown         | 1662.0377       | \n",
       "| Verified        | -201.5933       | \n",
       "\n",
       "\n"
      ],
      "text/plain": [
       "  verification_status avg_resid\n",
       "1 Not Verified        -313.2966\n",
       "2 Source Verified     6802.2108\n",
       "3 unknown             1662.0377\n",
       "4 Verified            -201.5933"
      ]
     },
     "metadata": {},
     "output_type": "display_data"
    }
   ],
   "source": [
    "## Add residuals and predictions from regression tree to the data stream\n",
    "stream_for_model <- stream_for_model %>%\n",
    "  mutate(pred_rpart = predict(rpart_fit,newdata=stream_for_model)) %>%\n",
    "  mutate(resid_rpart = annual_inc - predict(rpart_fit,newdata=stream_for_model))\n",
    "\n",
    "## Print the average residual for each verification status\n",
    "stream_for_model %>%\n",
    "  group_by(verification_status) %>%\n",
    "  summarise(avg_resid = mean(resid_rpart,na.rm=T))"
   ]
  },
  {
   "cell_type": "markdown",
   "metadata": {},
   "source": [
    "#### Step 6:  Rank new applicants against expectations"
   ]
  },
  {
   "cell_type": "code",
   "execution_count": 128,
   "metadata": {},
   "outputs": [
    {
     "data": {
      "text/html": [
       "<table>\n",
       "<thead><tr><th scope=col>n</th></tr></thead>\n",
       "<tbody>\n",
       "\t<tr><td>819</td></tr>\n",
       "</tbody>\n",
       "</table>\n"
      ],
      "text/latex": [
       "\\begin{tabular}{r|l}\n",
       " n\\\\\n",
       "\\hline\n",
       "\t 819\\\\\n",
       "\\end{tabular}\n"
      ],
      "text/markdown": [
       "\n",
       "n | \n",
       "|---|\n",
       "| 819 | \n",
       "\n",
       "\n"
      ],
      "text/plain": [
       "  n  \n",
       "1 819"
      ]
     },
     "metadata": {},
     "output_type": "display_data"
    },
    {
     "data": {
      "text/html": [
       "<table>\n",
       "<thead><tr><th scope=col>id</th><th scope=col>purpose</th><th scope=col>verification_status</th><th scope=col>annual_inc</th><th scope=col>pred_rpart</th><th scope=col>resid_rpart</th></tr></thead>\n",
       "<tbody>\n",
       "\t<tr><td>748098            </td><td>credit_card       </td><td>unknown           </td><td>700000            </td><td>356763.46         </td><td>343236.5          </td></tr>\n",
       "\t<tr><td>808815            </td><td>credit_card       </td><td>unknown           </td><td>393000            </td><td>139696.90         </td><td>253303.1          </td></tr>\n",
       "\t<tr><td>800570            </td><td>unknown           </td><td>unknown           </td><td>685000            </td><td>445874.15         </td><td>239125.8          </td></tr>\n",
       "\t<tr><td>976293            </td><td>debt_consolidation</td><td>unknown           </td><td>275000            </td><td> 57352.27         </td><td>217647.7          </td></tr>\n",
       "\t<tr><td>880557            </td><td>debt_consolidation</td><td>unknown           </td><td>412523            </td><td>197573.19         </td><td>214949.8          </td></tr>\n",
       "\t<tr><td>961616            </td><td>home_improvement  </td><td>unknown           </td><td>300000            </td><td> 85532.57         </td><td>214467.4          </td></tr>\n",
       "\t<tr><td>970073            </td><td>credit_card       </td><td>unknown           </td><td>350000            </td><td>139696.90         </td><td>210303.1          </td></tr>\n",
       "\t<tr><td>847885            </td><td>debt_consolidation</td><td>unknown           </td><td>338000            </td><td>128783.62         </td><td>209216.4          </td></tr>\n",
       "\t<tr><td>854778            </td><td>debt_consolidation</td><td>unknown           </td><td>280000            </td><td> 79318.44         </td><td>200681.6          </td></tr>\n",
       "\t<tr><td>713666            </td><td>debt_consolidation</td><td>unknown           </td><td>300000            </td><td>104212.57         </td><td>195787.4          </td></tr>\n",
       "\t<tr><td>942599            </td><td>credit_card       </td><td>unknown           </td><td>350000            </td><td>156423.31         </td><td>193576.7          </td></tr>\n",
       "\t<tr><td>669014            </td><td>credit_card       </td><td>unknown           </td><td>300000            </td><td>120007.85         </td><td>179992.2          </td></tr>\n",
       "\t<tr><td>843336            </td><td>home_improvement  </td><td>unknown           </td><td>225000            </td><td> 50285.98         </td><td>174714.0          </td></tr>\n",
       "\t<tr><td>722804            </td><td>credit_card       </td><td>unknown           </td><td>300000            </td><td>128783.62         </td><td>171216.4          </td></tr>\n",
       "\t<tr><td>850619            </td><td>debt_consolidation</td><td>unknown           </td><td>250000            </td><td> 79318.44         </td><td>170681.6          </td></tr>\n",
       "\t<tr><td>841094            </td><td>home_improvement  </td><td>unknown           </td><td>271000            </td><td>103687.89         </td><td>167312.1          </td></tr>\n",
       "\t<tr><td>963907            </td><td>debt_consolidation</td><td>unknown           </td><td>310000            </td><td>156423.31         </td><td>153576.7          </td></tr>\n",
       "\t<tr><td>898832            </td><td>small_business    </td><td>unknown           </td><td>273300            </td><td>120007.85         </td><td>153292.2          </td></tr>\n",
       "\t<tr><td>826445            </td><td>unknown           </td><td>unknown           </td><td>273000            </td><td>120007.85         </td><td>152992.2          </td></tr>\n",
       "\t<tr><td>678195            </td><td>credit_card       </td><td>unknown           </td><td>234000            </td><td> 88146.79         </td><td>145853.2          </td></tr>\n",
       "\t<tr><td>893549            </td><td>debt_consolidation</td><td>unknown           </td><td>208000            </td><td> 64221.02         </td><td>143779.0          </td></tr>\n",
       "\t<tr><td>884414            </td><td>debt_consolidation</td><td>unknown           </td><td>300000            </td><td>156423.31         </td><td>143576.7          </td></tr>\n",
       "\t<tr><td>714125            </td><td>major_purchase    </td><td>unknown           </td><td>190000            </td><td> 50285.98         </td><td>139714.0          </td></tr>\n",
       "\t<tr><td>803303            </td><td>debt_consolidation</td><td>unknown           </td><td>190000            </td><td> 50285.98         </td><td>139714.0          </td></tr>\n",
       "\t<tr><td>817142            </td><td>debt_consolidation</td><td>unknown           </td><td>360000            </td><td>220946.24         </td><td>139053.8          </td></tr>\n",
       "\t<tr><td>950465            </td><td>credit_card       </td><td>unknown           </td><td>200000            </td><td> 64221.02         </td><td>135779.0          </td></tr>\n",
       "\t<tr><td>749444            </td><td>credit_card       </td><td>unknown           </td><td>210000            </td><td> 79318.44         </td><td>130681.6          </td></tr>\n",
       "\t<tr><td>692303            </td><td>debt_consolidation</td><td>unknown           </td><td>250000            </td><td>120007.85         </td><td>129992.2          </td></tr>\n",
       "\t<tr><td>819779            </td><td>other             </td><td>unknown           </td><td>250000            </td><td>120007.85         </td><td>129992.2          </td></tr>\n",
       "\t<tr><td>785633            </td><td>home_improvement  </td><td>unknown           </td><td>350000            </td><td>220946.24         </td><td>129053.8          </td></tr>\n",
       "\t<tr><td>...</td><td>...</td><td>...</td><td>...</td><td>...</td><td>...</td></tr>\n",
       "\t<tr><td>760876            </td><td>debt_consolidation</td><td>unknown           </td><td>  8000            </td><td> 50285.98         </td><td> -42285.98        </td></tr>\n",
       "\t<tr><td>764374            </td><td>debt_consolidation</td><td>unknown           </td><td> 37000            </td><td> 79318.44         </td><td> -42318.44        </td></tr>\n",
       "\t<tr><td>755932            </td><td>home_improvement  </td><td>unknown           </td><td> 45000            </td><td> 88146.79         </td><td> -43146.79        </td></tr>\n",
       "\t<tr><td>947371            </td><td>credit_card       </td><td>unknown           </td><td> 36000            </td><td> 79318.44         </td><td> -43318.44        </td></tr>\n",
       "\t<tr><td>714999            </td><td>debt_consolidation</td><td>unknown           </td><td> 35000            </td><td> 79318.44         </td><td> -44318.44        </td></tr>\n",
       "\t<tr><td>806711            </td><td>debt_consolidation</td><td>unknown           </td><td> 35000            </td><td> 79318.44         </td><td> -44318.44        </td></tr>\n",
       "\t<tr><td>958326            </td><td>debt_consolidation</td><td>unknown           </td><td> 35000            </td><td> 79318.44         </td><td> -44318.44        </td></tr>\n",
       "\t<tr><td>946889            </td><td>debt_consolidation</td><td>unknown           </td><td> 95000            </td><td>139696.90         </td><td> -44696.90        </td></tr>\n",
       "\t<tr><td>941065            </td><td>debt_consolidation</td><td>unknown           </td><td> 42000            </td><td> 88146.79         </td><td> -46146.79        </td></tr>\n",
       "\t<tr><td>712263            </td><td>credit_card       </td><td>unknown           </td><td>110000            </td><td>156423.31         </td><td> -46423.31        </td></tr>\n",
       "\t<tr><td>693744            </td><td>debt_consolidation</td><td>unknown           </td><td> 32073            </td><td> 79318.44         </td><td> -47245.44        </td></tr>\n",
       "\t<tr><td>916997            </td><td>debt_consolidation</td><td>unknown           </td><td> 32000            </td><td> 79318.44         </td><td> -47318.44        </td></tr>\n",
       "\t<tr><td>664371            </td><td>debt_consolidation</td><td>unknown           </td><td> 40000            </td><td> 88146.79         </td><td> -48146.79        </td></tr>\n",
       "\t<tr><td>806100            </td><td>debt_consolidation</td><td>unknown           </td><td> 71525            </td><td>120007.85         </td><td> -48482.85        </td></tr>\n",
       "\t<tr><td>815687            </td><td>home_improvement  </td><td>unknown           </td><td> 28886            </td><td> 79318.44         </td><td> -50432.44        </td></tr>\n",
       "\t<tr><td>729511            </td><td>debt_consolidation</td><td>unknown           </td><td> 53000            </td><td>103687.89         </td><td> -50687.89        </td></tr>\n",
       "\t<tr><td>764875            </td><td>home_improvement  </td><td>unknown           </td><td> 16000            </td><td> 66804.20         </td><td> -50804.20        </td></tr>\n",
       "\t<tr><td>820530            </td><td>debt_consolidation</td><td>unknown           </td><td> 37000            </td><td> 88146.79         </td><td> -51146.79        </td></tr>\n",
       "\t<tr><td>825001            </td><td>credit_card       </td><td>unknown           </td><td> 12000            </td><td> 64221.02         </td><td> -52221.02        </td></tr>\n",
       "\t<tr><td>830798            </td><td>debt_consolidation</td><td>unknown           </td><td> 50000            </td><td>104212.57         </td><td> -54212.57        </td></tr>\n",
       "\t<tr><td>681896            </td><td>debt_consolidation</td><td>unknown           </td><td> 65000            </td><td>120007.85         </td><td> -55007.85        </td></tr>\n",
       "\t<tr><td>672588            </td><td>debt_consolidation</td><td>unknown           </td><td> 63250            </td><td>120007.85         </td><td> -56757.85        </td></tr>\n",
       "\t<tr><td>834062            </td><td>debt_consolidation</td><td>unknown           </td><td> 30000            </td><td> 88146.79         </td><td> -58146.79        </td></tr>\n",
       "\t<tr><td>835588            </td><td>debt_consolidation</td><td>unknown           </td><td>139000            </td><td>197573.19         </td><td> -58573.19        </td></tr>\n",
       "\t<tr><td>931492            </td><td>credit_card       </td><td>unknown           </td><td> 70000            </td><td>128783.62         </td><td> -58783.62        </td></tr>\n",
       "\t<tr><td>746017            </td><td>home_improvement  </td><td>unknown           </td><td> 79400            </td><td>156423.31         </td><td> -77023.31        </td></tr>\n",
       "\t<tr><td>926415            </td><td>debt_consolidation</td><td>unknown           </td><td>275000            </td><td>356763.46         </td><td> -81763.46        </td></tr>\n",
       "\t<tr><td>748892            </td><td>debt_consolidation</td><td>unknown           </td><td>135000            </td><td>220946.24         </td><td> -85946.24        </td></tr>\n",
       "\t<tr><td>856991            </td><td>debt_consolidation</td><td>unknown           </td><td> 70000            </td><td>156423.31         </td><td> -86423.31        </td></tr>\n",
       "\t<tr><td>946069            </td><td>debt_consolidation</td><td>unknown           </td><td>114538            </td><td>220946.24         </td><td>-106408.24        </td></tr>\n",
       "</tbody>\n",
       "</table>\n"
      ],
      "text/latex": [
       "\\begin{tabular}{r|llllll}\n",
       " id & purpose & verification\\_status & annual\\_inc & pred\\_rpart & resid\\_rpart\\\\\n",
       "\\hline\n",
       "\t 748098               & credit\\_card        & unknown              & 700000               & 356763.46            & 343236.5            \\\\\n",
       "\t 808815               & credit\\_card        & unknown              & 393000               & 139696.90            & 253303.1            \\\\\n",
       "\t 800570             & unknown            & unknown            & 685000             & 445874.15          & 239125.8          \\\\\n",
       "\t 976293               & debt\\_consolidation & unknown              & 275000               &  57352.27            & 217647.7            \\\\\n",
       "\t 880557               & debt\\_consolidation & unknown              & 412523               & 197573.19            & 214949.8            \\\\\n",
       "\t 961616               & home\\_improvement   & unknown              & 300000               &  85532.57            & 214467.4            \\\\\n",
       "\t 970073               & credit\\_card        & unknown              & 350000               & 139696.90            & 210303.1            \\\\\n",
       "\t 847885               & debt\\_consolidation & unknown              & 338000               & 128783.62            & 209216.4            \\\\\n",
       "\t 854778               & debt\\_consolidation & unknown              & 280000               &  79318.44            & 200681.6            \\\\\n",
       "\t 713666               & debt\\_consolidation & unknown              & 300000               & 104212.57            & 195787.4            \\\\\n",
       "\t 942599               & credit\\_card        & unknown              & 350000               & 156423.31            & 193576.7            \\\\\n",
       "\t 669014               & credit\\_card        & unknown              & 300000               & 120007.85            & 179992.2            \\\\\n",
       "\t 843336               & home\\_improvement   & unknown              & 225000               &  50285.98            & 174714.0            \\\\\n",
       "\t 722804               & credit\\_card        & unknown              & 300000               & 128783.62            & 171216.4            \\\\\n",
       "\t 850619               & debt\\_consolidation & unknown              & 250000               &  79318.44            & 170681.6            \\\\\n",
       "\t 841094               & home\\_improvement   & unknown              & 271000               & 103687.89            & 167312.1            \\\\\n",
       "\t 963907               & debt\\_consolidation & unknown              & 310000               & 156423.31            & 153576.7            \\\\\n",
       "\t 898832               & small\\_business     & unknown              & 273300               & 120007.85            & 153292.2            \\\\\n",
       "\t 826445             & unknown            & unknown            & 273000             & 120007.85          & 152992.2          \\\\\n",
       "\t 678195               & credit\\_card        & unknown              & 234000               &  88146.79            & 145853.2            \\\\\n",
       "\t 893549               & debt\\_consolidation & unknown              & 208000               &  64221.02            & 143779.0            \\\\\n",
       "\t 884414               & debt\\_consolidation & unknown              & 300000               & 156423.31            & 143576.7            \\\\\n",
       "\t 714125               & major\\_purchase     & unknown              & 190000               &  50285.98            & 139714.0            \\\\\n",
       "\t 803303               & debt\\_consolidation & unknown              & 190000               &  50285.98            & 139714.0            \\\\\n",
       "\t 817142               & debt\\_consolidation & unknown              & 360000               & 220946.24            & 139053.8            \\\\\n",
       "\t 950465               & credit\\_card        & unknown              & 200000               &  64221.02            & 135779.0            \\\\\n",
       "\t 749444               & credit\\_card        & unknown              & 210000               &  79318.44            & 130681.6            \\\\\n",
       "\t 692303               & debt\\_consolidation & unknown              & 250000               & 120007.85            & 129992.2            \\\\\n",
       "\t 819779             & other              & unknown            & 250000             & 120007.85          & 129992.2          \\\\\n",
       "\t 785633               & home\\_improvement   & unknown              & 350000               & 220946.24            & 129053.8            \\\\\n",
       "\t ... & ... & ... & ... & ... & ...\\\\\n",
       "\t 760876               & debt\\_consolidation & unknown              &   8000               &  50285.98            &  -42285.98          \\\\\n",
       "\t 764374               & debt\\_consolidation & unknown              &  37000               &  79318.44            &  -42318.44          \\\\\n",
       "\t 755932               & home\\_improvement   & unknown              &  45000               &  88146.79            &  -43146.79          \\\\\n",
       "\t 947371               & credit\\_card        & unknown              &  36000               &  79318.44            &  -43318.44          \\\\\n",
       "\t 714999               & debt\\_consolidation & unknown              &  35000               &  79318.44            &  -44318.44          \\\\\n",
       "\t 806711               & debt\\_consolidation & unknown              &  35000               &  79318.44            &  -44318.44          \\\\\n",
       "\t 958326               & debt\\_consolidation & unknown              &  35000               &  79318.44            &  -44318.44          \\\\\n",
       "\t 946889               & debt\\_consolidation & unknown              &  95000               & 139696.90            &  -44696.90          \\\\\n",
       "\t 941065               & debt\\_consolidation & unknown              &  42000               &  88146.79            &  -46146.79          \\\\\n",
       "\t 712263               & credit\\_card        & unknown              & 110000               & 156423.31            &  -46423.31          \\\\\n",
       "\t 693744               & debt\\_consolidation & unknown              &  32073               &  79318.44            &  -47245.44          \\\\\n",
       "\t 916997               & debt\\_consolidation & unknown              &  32000               &  79318.44            &  -47318.44          \\\\\n",
       "\t 664371               & debt\\_consolidation & unknown              &  40000               &  88146.79            &  -48146.79          \\\\\n",
       "\t 806100               & debt\\_consolidation & unknown              &  71525               & 120007.85            &  -48482.85          \\\\\n",
       "\t 815687               & home\\_improvement   & unknown              &  28886               &  79318.44            &  -50432.44          \\\\\n",
       "\t 729511               & debt\\_consolidation & unknown              &  53000               & 103687.89            &  -50687.89          \\\\\n",
       "\t 764875               & home\\_improvement   & unknown              &  16000               &  66804.20            &  -50804.20          \\\\\n",
       "\t 820530               & debt\\_consolidation & unknown              &  37000               &  88146.79            &  -51146.79          \\\\\n",
       "\t 825001               & credit\\_card        & unknown              &  12000               &  64221.02            &  -52221.02          \\\\\n",
       "\t 830798               & debt\\_consolidation & unknown              &  50000               & 104212.57            &  -54212.57          \\\\\n",
       "\t 681896               & debt\\_consolidation & unknown              &  65000               & 120007.85            &  -55007.85          \\\\\n",
       "\t 672588               & debt\\_consolidation & unknown              &  63250               & 120007.85            &  -56757.85          \\\\\n",
       "\t 834062               & debt\\_consolidation & unknown              &  30000               &  88146.79            &  -58146.79          \\\\\n",
       "\t 835588               & debt\\_consolidation & unknown              & 139000               & 197573.19            &  -58573.19          \\\\\n",
       "\t 931492               & credit\\_card        & unknown              &  70000               & 128783.62            &  -58783.62          \\\\\n",
       "\t 746017               & home\\_improvement   & unknown              &  79400               & 156423.31            &  -77023.31          \\\\\n",
       "\t 926415               & debt\\_consolidation & unknown              & 275000               & 356763.46            &  -81763.46          \\\\\n",
       "\t 748892               & debt\\_consolidation & unknown              & 135000               & 220946.24            &  -85946.24          \\\\\n",
       "\t 856991               & debt\\_consolidation & unknown              &  70000               & 156423.31            &  -86423.31          \\\\\n",
       "\t 946069               & debt\\_consolidation & unknown              & 114538               & 220946.24            & -106408.24          \\\\\n",
       "\\end{tabular}\n"
      ],
      "text/markdown": [
       "\n",
       "id | purpose | verification_status | annual_inc | pred_rpart | resid_rpart | \n",
       "|---|---|---|---|---|---|---|---|---|---|---|---|---|---|---|---|---|---|---|---|---|---|---|---|---|---|---|---|---|---|---|---|---|---|---|---|---|---|---|---|---|---|---|---|---|---|---|---|---|---|---|---|---|---|---|---|---|---|---|---|---|\n",
       "| 748098             | credit_card        | unknown            | 700000             | 356763.46          | 343236.5           | \n",
       "| 808815             | credit_card        | unknown            | 393000             | 139696.90          | 253303.1           | \n",
       "| 800570             | unknown            | unknown            | 685000             | 445874.15          | 239125.8           | \n",
       "| 976293             | debt_consolidation | unknown            | 275000             |  57352.27          | 217647.7           | \n",
       "| 880557             | debt_consolidation | unknown            | 412523             | 197573.19          | 214949.8           | \n",
       "| 961616             | home_improvement   | unknown            | 300000             |  85532.57          | 214467.4           | \n",
       "| 970073             | credit_card        | unknown            | 350000             | 139696.90          | 210303.1           | \n",
       "| 847885             | debt_consolidation | unknown            | 338000             | 128783.62          | 209216.4           | \n",
       "| 854778             | debt_consolidation | unknown            | 280000             |  79318.44          | 200681.6           | \n",
       "| 713666             | debt_consolidation | unknown            | 300000             | 104212.57          | 195787.4           | \n",
       "| 942599             | credit_card        | unknown            | 350000             | 156423.31          | 193576.7           | \n",
       "| 669014             | credit_card        | unknown            | 300000             | 120007.85          | 179992.2           | \n",
       "| 843336             | home_improvement   | unknown            | 225000             |  50285.98          | 174714.0           | \n",
       "| 722804             | credit_card        | unknown            | 300000             | 128783.62          | 171216.4           | \n",
       "| 850619             | debt_consolidation | unknown            | 250000             |  79318.44          | 170681.6           | \n",
       "| 841094             | home_improvement   | unknown            | 271000             | 103687.89          | 167312.1           | \n",
       "| 963907             | debt_consolidation | unknown            | 310000             | 156423.31          | 153576.7           | \n",
       "| 898832             | small_business     | unknown            | 273300             | 120007.85          | 153292.2           | \n",
       "| 826445             | unknown            | unknown            | 273000             | 120007.85          | 152992.2           | \n",
       "| 678195             | credit_card        | unknown            | 234000             |  88146.79          | 145853.2           | \n",
       "| 893549             | debt_consolidation | unknown            | 208000             |  64221.02          | 143779.0           | \n",
       "| 884414             | debt_consolidation | unknown            | 300000             | 156423.31          | 143576.7           | \n",
       "| 714125             | major_purchase     | unknown            | 190000             |  50285.98          | 139714.0           | \n",
       "| 803303             | debt_consolidation | unknown            | 190000             |  50285.98          | 139714.0           | \n",
       "| 817142             | debt_consolidation | unknown            | 360000             | 220946.24          | 139053.8           | \n",
       "| 950465             | credit_card        | unknown            | 200000             |  64221.02          | 135779.0           | \n",
       "| 749444             | credit_card        | unknown            | 210000             |  79318.44          | 130681.6           | \n",
       "| 692303             | debt_consolidation | unknown            | 250000             | 120007.85          | 129992.2           | \n",
       "| 819779             | other              | unknown            | 250000             | 120007.85          | 129992.2           | \n",
       "| 785633             | home_improvement   | unknown            | 350000             | 220946.24          | 129053.8           | \n",
       "| ... | ... | ... | ... | ... | ... | \n",
       "| 760876             | debt_consolidation | unknown            |   8000             |  50285.98          |  -42285.98         | \n",
       "| 764374             | debt_consolidation | unknown            |  37000             |  79318.44          |  -42318.44         | \n",
       "| 755932             | home_improvement   | unknown            |  45000             |  88146.79          |  -43146.79         | \n",
       "| 947371             | credit_card        | unknown            |  36000             |  79318.44          |  -43318.44         | \n",
       "| 714999             | debt_consolidation | unknown            |  35000             |  79318.44          |  -44318.44         | \n",
       "| 806711             | debt_consolidation | unknown            |  35000             |  79318.44          |  -44318.44         | \n",
       "| 958326             | debt_consolidation | unknown            |  35000             |  79318.44          |  -44318.44         | \n",
       "| 946889             | debt_consolidation | unknown            |  95000             | 139696.90          |  -44696.90         | \n",
       "| 941065             | debt_consolidation | unknown            |  42000             |  88146.79          |  -46146.79         | \n",
       "| 712263             | credit_card        | unknown            | 110000             | 156423.31          |  -46423.31         | \n",
       "| 693744             | debt_consolidation | unknown            |  32073             |  79318.44          |  -47245.44         | \n",
       "| 916997             | debt_consolidation | unknown            |  32000             |  79318.44          |  -47318.44         | \n",
       "| 664371             | debt_consolidation | unknown            |  40000             |  88146.79          |  -48146.79         | \n",
       "| 806100             | debt_consolidation | unknown            |  71525             | 120007.85          |  -48482.85         | \n",
       "| 815687             | home_improvement   | unknown            |  28886             |  79318.44          |  -50432.44         | \n",
       "| 729511             | debt_consolidation | unknown            |  53000             | 103687.89          |  -50687.89         | \n",
       "| 764875             | home_improvement   | unknown            |  16000             |  66804.20          |  -50804.20         | \n",
       "| 820530             | debt_consolidation | unknown            |  37000             |  88146.79          |  -51146.79         | \n",
       "| 825001             | credit_card        | unknown            |  12000             |  64221.02          |  -52221.02         | \n",
       "| 830798             | debt_consolidation | unknown            |  50000             | 104212.57          |  -54212.57         | \n",
       "| 681896             | debt_consolidation | unknown            |  65000             | 120007.85          |  -55007.85         | \n",
       "| 672588             | debt_consolidation | unknown            |  63250             | 120007.85          |  -56757.85         | \n",
       "| 834062             | debt_consolidation | unknown            |  30000             |  88146.79          |  -58146.79         | \n",
       "| 835588             | debt_consolidation | unknown            | 139000             | 197573.19          |  -58573.19         | \n",
       "| 931492             | credit_card        | unknown            |  70000             | 128783.62          |  -58783.62         | \n",
       "| 746017             | home_improvement   | unknown            |  79400             | 156423.31          |  -77023.31         | \n",
       "| 926415             | debt_consolidation | unknown            | 275000             | 356763.46          |  -81763.46         | \n",
       "| 748892             | debt_consolidation | unknown            | 135000             | 220946.24          |  -85946.24         | \n",
       "| 856991             | debt_consolidation | unknown            |  70000             | 156423.31          |  -86423.31         | \n",
       "| 946069             | debt_consolidation | unknown            | 114538             | 220946.24          | -106408.24         | \n",
       "\n",
       "\n"
      ],
      "text/plain": [
       "    id     purpose            verification_status annual_inc pred_rpart\n",
       "1   748098 credit_card        unknown             700000     356763.46 \n",
       "2   808815 credit_card        unknown             393000     139696.90 \n",
       "3   800570 unknown            unknown             685000     445874.15 \n",
       "4   976293 debt_consolidation unknown             275000      57352.27 \n",
       "5   880557 debt_consolidation unknown             412523     197573.19 \n",
       "6   961616 home_improvement   unknown             300000      85532.57 \n",
       "7   970073 credit_card        unknown             350000     139696.90 \n",
       "8   847885 debt_consolidation unknown             338000     128783.62 \n",
       "9   854778 debt_consolidation unknown             280000      79318.44 \n",
       "10  713666 debt_consolidation unknown             300000     104212.57 \n",
       "11  942599 credit_card        unknown             350000     156423.31 \n",
       "12  669014 credit_card        unknown             300000     120007.85 \n",
       "13  843336 home_improvement   unknown             225000      50285.98 \n",
       "14  722804 credit_card        unknown             300000     128783.62 \n",
       "15  850619 debt_consolidation unknown             250000      79318.44 \n",
       "16  841094 home_improvement   unknown             271000     103687.89 \n",
       "17  963907 debt_consolidation unknown             310000     156423.31 \n",
       "18  898832 small_business     unknown             273300     120007.85 \n",
       "19  826445 unknown            unknown             273000     120007.85 \n",
       "20  678195 credit_card        unknown             234000      88146.79 \n",
       "21  893549 debt_consolidation unknown             208000      64221.02 \n",
       "22  884414 debt_consolidation unknown             300000     156423.31 \n",
       "23  714125 major_purchase     unknown             190000      50285.98 \n",
       "24  803303 debt_consolidation unknown             190000      50285.98 \n",
       "25  817142 debt_consolidation unknown             360000     220946.24 \n",
       "26  950465 credit_card        unknown             200000      64221.02 \n",
       "27  749444 credit_card        unknown             210000      79318.44 \n",
       "28  692303 debt_consolidation unknown             250000     120007.85 \n",
       "29  819779 other              unknown             250000     120007.85 \n",
       "30  785633 home_improvement   unknown             350000     220946.24 \n",
       "... ...    ...                ...                 ...        ...       \n",
       "790 760876 debt_consolidation unknown               8000      50285.98 \n",
       "791 764374 debt_consolidation unknown              37000      79318.44 \n",
       "792 755932 home_improvement   unknown              45000      88146.79 \n",
       "793 947371 credit_card        unknown              36000      79318.44 \n",
       "794 714999 debt_consolidation unknown              35000      79318.44 \n",
       "795 806711 debt_consolidation unknown              35000      79318.44 \n",
       "796 958326 debt_consolidation unknown              35000      79318.44 \n",
       "797 946889 debt_consolidation unknown              95000     139696.90 \n",
       "798 941065 debt_consolidation unknown              42000      88146.79 \n",
       "799 712263 credit_card        unknown             110000     156423.31 \n",
       "800 693744 debt_consolidation unknown              32073      79318.44 \n",
       "801 916997 debt_consolidation unknown              32000      79318.44 \n",
       "802 664371 debt_consolidation unknown              40000      88146.79 \n",
       "803 806100 debt_consolidation unknown              71525     120007.85 \n",
       "804 815687 home_improvement   unknown              28886      79318.44 \n",
       "805 729511 debt_consolidation unknown              53000     103687.89 \n",
       "806 764875 home_improvement   unknown              16000      66804.20 \n",
       "807 820530 debt_consolidation unknown              37000      88146.79 \n",
       "808 825001 credit_card        unknown              12000      64221.02 \n",
       "809 830798 debt_consolidation unknown              50000     104212.57 \n",
       "810 681896 debt_consolidation unknown              65000     120007.85 \n",
       "811 672588 debt_consolidation unknown              63250     120007.85 \n",
       "812 834062 debt_consolidation unknown              30000      88146.79 \n",
       "813 835588 debt_consolidation unknown             139000     197573.19 \n",
       "814 931492 credit_card        unknown              70000     128783.62 \n",
       "815 746017 home_improvement   unknown              79400     156423.31 \n",
       "816 926415 debt_consolidation unknown             275000     356763.46 \n",
       "817 748892 debt_consolidation unknown             135000     220946.24 \n",
       "818 856991 debt_consolidation unknown              70000     156423.31 \n",
       "819 946069 debt_consolidation unknown             114538     220946.24 \n",
       "    resid_rpart\n",
       "1   343236.5   \n",
       "2   253303.1   \n",
       "3   239125.8   \n",
       "4   217647.7   \n",
       "5   214949.8   \n",
       "6   214467.4   \n",
       "7   210303.1   \n",
       "8   209216.4   \n",
       "9   200681.6   \n",
       "10  195787.4   \n",
       "11  193576.7   \n",
       "12  179992.2   \n",
       "13  174714.0   \n",
       "14  171216.4   \n",
       "15  170681.6   \n",
       "16  167312.1   \n",
       "17  153576.7   \n",
       "18  153292.2   \n",
       "19  152992.2   \n",
       "20  145853.2   \n",
       "21  143779.0   \n",
       "22  143576.7   \n",
       "23  139714.0   \n",
       "24  139714.0   \n",
       "25  139053.8   \n",
       "26  135779.0   \n",
       "27  130681.6   \n",
       "28  129992.2   \n",
       "29  129992.2   \n",
       "30  129053.8   \n",
       "... ...        \n",
       "790  -42285.98 \n",
       "791  -42318.44 \n",
       "792  -43146.79 \n",
       "793  -43318.44 \n",
       "794  -44318.44 \n",
       "795  -44318.44 \n",
       "796  -44318.44 \n",
       "797  -44696.90 \n",
       "798  -46146.79 \n",
       "799  -46423.31 \n",
       "800  -47245.44 \n",
       "801  -47318.44 \n",
       "802  -48146.79 \n",
       "803  -48482.85 \n",
       "804  -50432.44 \n",
       "805  -50687.89 \n",
       "806  -50804.20 \n",
       "807  -51146.79 \n",
       "808  -52221.02 \n",
       "809  -54212.57 \n",
       "810  -55007.85 \n",
       "811  -56757.85 \n",
       "812  -58146.79 \n",
       "813  -58573.19 \n",
       "814  -58783.62 \n",
       "815  -77023.31 \n",
       "816  -81763.46 \n",
       "817  -85946.24 \n",
       "818  -86423.31 \n",
       "819 -106408.24 "
      ]
     },
     "metadata": {},
     "output_type": "display_data"
    }
   ],
   "source": [
    "## Identify outliers using Boxplot methodology (outlier = 75th percentile + 1.5*IQR)\n",
    "## Count the outliers\n",
    "stream_for_model %>%\n",
    "  filter((verification_status == \"unknown\" | verification_status == \"Unverified\") \n",
    "         & resid_rpart > quantile(resid_rpart) + 1.5*IQR(resid_rpart)) %>%\n",
    "  tally()\n",
    "\n",
    "## Print the outliers\n",
    "stream_for_model %>%\n",
    "  filter((verification_status == \"unknown\" | verification_status == \"Unverified\") \n",
    "         & resid_rpart > quantile(resid_rpart) + 1.5*IQR(resid_rpart)) %>%\n",
    "  select(id,purpose,verification_status,annual_inc,pred_rpart,resid_rpart) %>%\n",
    "  arrange(desc(resid_rpart))"
   ]
  }
 ],
 "metadata": {
  "kernelspec": {
   "display_name": "R",
   "language": "R",
   "name": "ir"
  },
  "language_info": {
   "codemirror_mode": "r",
   "file_extension": ".r",
   "mimetype": "text/x-r-source",
   "name": "R",
   "pygments_lexer": "r",
   "version": "3.4.2"
  }
 },
 "nbformat": 4,
 "nbformat_minor": 2
}
